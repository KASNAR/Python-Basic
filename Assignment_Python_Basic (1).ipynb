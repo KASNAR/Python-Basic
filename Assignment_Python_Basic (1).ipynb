{
  "nbformat": 4,
  "nbformat_minor": 0,
  "metadata": {
    "colab": {
      "provenance": []
    },
    "kernelspec": {
      "name": "python3",
      "display_name": "Python 3"
    },
    "language_info": {
      "name": "python"
    }
  },
  "cells": [
    {
      "cell_type": "markdown",
      "source": [
        "                                                                                                                                                            Name Kartik Narayan\n",
        "                                                                                                                                                           Email kartiknarayan90#gmail.com                                                                           Assignment Nmae Python Basic\n",
        "Github link\n"
      ],
      "metadata": {
        "id": "MZzBjOzI_4Vu"
      }
    },
    {
      "cell_type": "code",
      "execution_count": 1,
      "metadata": {
        "id": "G1fAof-cnBl4",
        "colab": {
          "base_uri": "https://localhost:8080/"
        },
        "outputId": "51edaa24-b707-4ee6-b69d-0aa1caf4b82a"
      },
      "outputs": [
        {
          "output_type": "stream",
          "name": "stdout",
          "text": [
            "Hello, World!\n"
          ]
        }
      ],
      "source": [
        "print(\"Hello, World!\")"
      ]
    },
    {
      "cell_type": "code",
      "source": [
        "name = \"Kartik Narayan\"\n",
        "age = 33\n",
        "\n",
        "print(\"Name:\", name)\n",
        "print(\"Age:\", age)"
      ],
      "metadata": {
        "colab": {
          "base_uri": "https://localhost:8080/"
        },
        "id": "Yimy8JRhdUp7",
        "outputId": "5640653e-1e63-4821-8701-eeb327818040"
      },
      "execution_count": 2,
      "outputs": [
        {
          "output_type": "stream",
          "name": "stdout",
          "text": [
            "Name: Kartik Narayan\n",
            "Age: 33\n"
          ]
        }
      ]
    },
    {
      "cell_type": "code",
      "source": [
        "import keyword\n",
        "keywords_list = keyword.kwlist\n",
        "print(\"Python Keywords:\")\n",
        "for kw in keywords_list:\n",
        "    print(kw)"
      ],
      "metadata": {
        "colab": {
          "base_uri": "https://localhost:8080/"
        },
        "id": "-reAnKH5dUs-",
        "outputId": "5128ae83-570c-4d19-a2bc-123a7bfdf467"
      },
      "execution_count": 4,
      "outputs": [
        {
          "output_type": "stream",
          "name": "stdout",
          "text": [
            "Python Keywords:\n",
            "False\n",
            "None\n",
            "True\n",
            "and\n",
            "as\n",
            "assert\n",
            "async\n",
            "await\n",
            "break\n",
            "class\n",
            "continue\n",
            "def\n",
            "del\n",
            "elif\n",
            "else\n",
            "except\n",
            "finally\n",
            "for\n",
            "from\n",
            "global\n",
            "if\n",
            "import\n",
            "in\n",
            "is\n",
            "lambda\n",
            "nonlocal\n",
            "not\n",
            "or\n",
            "pass\n",
            "raise\n",
            "return\n",
            "try\n",
            "while\n",
            "with\n",
            "yield\n"
          ]
        }
      ]
    },
    {
      "cell_type": "code",
      "source": [
        "import keyword\n",
        "\n",
        "word = input(\"Enter a word: \")\n",
        "\n",
        "if keyword.iskeyword(word):\n",
        "    print(f\"'{word}' is a Python keyword.\")\n",
        "else:\n",
        "    print(f\"'{word}' is NOT a Python keyword.\")"
      ],
      "metadata": {
        "colab": {
          "base_uri": "https://localhost:8080/"
        },
        "id": "ZTKrxOx0dUv2",
        "outputId": "d929042e-7dea-45a4-ebb0-b320fc12a76c"
      },
      "execution_count": 5,
      "outputs": [
        {
          "output_type": "stream",
          "name": "stdout",
          "text": [
            "Enter a word: Kartik Narayan\n",
            "'Kartik Narayan' is NOT a Python keyword.\n"
          ]
        }
      ]
    },
    {
      "cell_type": "code",
      "source": [
        "\n",
        "my_list = [1, 2, 3]\n",
        "my_tuple = (1, 2, 3)\n",
        "\n",
        "print(\"Original list:\", my_list)\n",
        "my_list[0] = 10\n",
        "print(\"Modified list:\", my_list)\n",
        "\n",
        "print(\"\\nOriginal tuple:\", my_tuple)\n",
        "try:\n",
        "    my_tuple[0] = 10\n",
        "except TypeError as e:\n",
        "    print(\"Error when modifying tuple:\", e)\n"
      ],
      "metadata": {
        "colab": {
          "base_uri": "https://localhost:8080/"
        },
        "id": "gRDP101rdUzA",
        "outputId": "c3d86e09-dea1-4edc-e28d-8b55b29f8292"
      },
      "execution_count": 6,
      "outputs": [
        {
          "output_type": "stream",
          "name": "stdout",
          "text": [
            "Original list: [1, 2, 3]\n",
            "Modified list: [10, 2, 3]\n",
            "\n",
            "Original tuple: (1, 2, 3)\n",
            "Error when modifying tuple: 'tuple' object does not support item assignment\n"
          ]
        }
      ]
    },
    {
      "cell_type": "code",
      "source": [
        "def modify_arguments(immutable_arg, mutable_arg):\n",
        "    print(\"Inside function before change:\")\n",
        "    print(\"Immutable:\", immutable_arg)\n",
        "    print(\"Mutable:\", mutable_arg)\n",
        "\n",
        "\n",
        "    immutable_arg += 10\n",
        "    mutable_arg.append(4)\n",
        "\n",
        "    print(\"Inside function after change:\")\n",
        "    print(\"Immutable:\", immutable_arg)\n",
        "    print(\"Mutable:\", mutable_arg)\n",
        "\n",
        "\n",
        "x = 5\n",
        "y = [1, 2, 3]\n",
        "\n",
        "modify_arguments(x, y)\n",
        "\n",
        "print(\"\\nOutside function:\")\n",
        "print(\"Immutable (x):\", x)\n",
        "print(\"Mutable (y):\", y)\n"
      ],
      "metadata": {
        "colab": {
          "base_uri": "https://localhost:8080/"
        },
        "id": "o9LB-k5_dU14",
        "outputId": "f4f1dbed-7fa3-45af-92db-48dce344583c"
      },
      "execution_count": 7,
      "outputs": [
        {
          "output_type": "stream",
          "name": "stdout",
          "text": [
            "Inside function before change:\n",
            "Immutable: 5\n",
            "Mutable: [1, 2, 3]\n",
            "Inside function after change:\n",
            "Immutable: 15\n",
            "Mutable: [1, 2, 3, 4]\n",
            "\n",
            "Outside function:\n",
            "Immutable (x): 5\n",
            "Mutable (y): [1, 2, 3, 4]\n"
          ]
        }
      ]
    },
    {
      "cell_type": "code",
      "source": [
        "\n",
        "num1 = float(input(\"Enter the first number: \"))\n",
        "num2 = float(input(\"Enter the second number: \"))\n",
        "print(\"\\nArithmetic Operations:\")\n",
        "print(\"Addition:\", num1 + num2)\n",
        "print(\"Subtraction:\", num1 - num2)\n",
        "print(\"Multiplication:\", num1 * num2)\n",
        "if num2 != 0:\n",
        "    print(\"Division:\", num1 / num2)\n",
        "else:\n",
        "    print(\"Division: Cannot divide by zero!\")"
      ],
      "metadata": {
        "colab": {
          "base_uri": "https://localhost:8080/"
        },
        "id": "qD9LjsWPdU4t",
        "outputId": "adad0fe8-9bcb-45e5-91bc-34acceba74ea"
      },
      "execution_count": 8,
      "outputs": [
        {
          "output_type": "stream",
          "name": "stdout",
          "text": [
            "Enter the first number: 12\n",
            "Enter the second number: 23\n",
            "\n",
            "Arithmetic Operations:\n",
            "Addition: 35.0\n",
            "Subtraction: -11.0\n",
            "Multiplication: 276.0\n",
            "Division: 0.5217391304347826\n"
          ]
        }
      ]
    },
    {
      "cell_type": "code",
      "source": [
        "\n",
        "a = True\n",
        "b = False\n",
        "print(\"Logical Operators Demonstration:\\n\")\n",
        "print(\"a and b:\", a and b)\n",
        "print(\"a and True:\", a and True)\n",
        "print(\"a or b:\", a or b)\n",
        "print(\"b or False:\", b or False)\n",
        "print(\"not a:\", not a)\n",
        "print(\"not b:\", not b)"
      ],
      "metadata": {
        "colab": {
          "base_uri": "https://localhost:8080/"
        },
        "id": "Lextjxn1dU7o",
        "outputId": "f653643b-a4ef-4bc3-da74-8472d1eae259"
      },
      "execution_count": 9,
      "outputs": [
        {
          "output_type": "stream",
          "name": "stdout",
          "text": [
            "Logical Operators Demonstration:\n",
            "\n",
            "a and b: False\n",
            "a and True: True\n",
            "a or b: True\n",
            "b or False: False\n",
            "not a: False\n",
            "not b: True\n"
          ]
        }
      ]
    },
    {
      "cell_type": "code",
      "source": [
        "\n",
        "user_input = input(\"Enter a value: \")\n",
        "try:\n",
        "    int_value = int(user_input)\n",
        "    print(\"Integer:\", int_value)\n",
        "except ValueError:\n",
        "    print(\"Cannot convert to integer.\")\n",
        "try:\n",
        "    float_value = float(user_input)\n",
        "    print(\"Float:\", float_value)\n",
        "except ValueError:\n",
        "    print(\"Cannot convert to float.\")\n",
        "bool_value = bool(user_input)\n",
        "print(\"Boolean:\", bool_value)\n",
        "\n"
      ],
      "metadata": {
        "colab": {
          "base_uri": "https://localhost:8080/"
        },
        "id": "NGFwXsfifCHb",
        "outputId": "7894b172-88e8-4525-b9fd-b4072b84b82d"
      },
      "execution_count": 10,
      "outputs": [
        {
          "output_type": "stream",
          "name": "stdout",
          "text": [
            "Enter a value: 45\n",
            "Integer: 45\n",
            "Float: 45.0\n",
            "Boolean: True\n"
          ]
        }
      ]
    },
    {
      "cell_type": "code",
      "source": [
        "\n",
        "str_list = ['1', '2', '3', '4.5', '6.7']\n",
        "print(\"Original list (strings):\", str_list)\n",
        "int_list = [int(x) for x in str_list if x.isdigit()]\n",
        "print(\"Converted to integers:\", int_list)\n",
        "float_list = [float(x) for x in str_list]\n",
        "print(\"Converted to floats:\", float_list)\n",
        "str_from_float = [str(x) for x in float_list]\n",
        "print(\"Converted back to strings:\", str_from_float)\n",
        "\n",
        "\n",
        "\n",
        "\n",
        "\n",
        "\n",
        "\n",
        "\n"
      ],
      "metadata": {
        "colab": {
          "base_uri": "https://localhost:8080/"
        },
        "id": "ITxDRwTOfCLX",
        "outputId": "c35182de-facf-40f5-a452-bca753272310"
      },
      "execution_count": 11,
      "outputs": [
        {
          "output_type": "stream",
          "name": "stdout",
          "text": [
            "Original list (strings): ['1', '2', '3', '4.5', '6.7']\n",
            "Converted to integers: [1, 2, 3]\n",
            "Converted to floats: [1.0, 2.0, 3.0, 4.5, 6.7]\n",
            "Converted back to strings: ['1.0', '2.0', '3.0', '4.5', '6.7']\n"
          ]
        }
      ]
    },
    {
      "cell_type": "code",
      "source": [
        "\n",
        "num = float(input(\"Enter a number: \"))\n",
        "if num > 0:\n",
        "    print(\"The number is positive.\")\n",
        "elif num < 0:\n",
        "    print(\"The number is negative.\")\n",
        "else:\n",
        "    print(\"The number is zero.\")"
      ],
      "metadata": {
        "colab": {
          "base_uri": "https://localhost:8080/"
        },
        "id": "5v_ucMHQfCOg",
        "outputId": "908565d8-3c5a-4b7f-8c87-da1bdf879d53"
      },
      "execution_count": 12,
      "outputs": [
        {
          "output_type": "stream",
          "name": "stdout",
          "text": [
            "Enter a number: 12\n",
            "The number is positive.\n"
          ]
        }
      ]
    },
    {
      "cell_type": "code",
      "source": [
        "for i in range(1, 11):\n",
        "    print(i)"
      ],
      "metadata": {
        "colab": {
          "base_uri": "https://localhost:8080/"
        },
        "id": "JNEg7CmkfCRI",
        "outputId": "ad66e3d1-2511-43d3-ecfd-fdc4238be2cc"
      },
      "execution_count": null,
      "outputs": [
        {
          "output_type": "stream",
          "name": "stdout",
          "text": [
            "1\n",
            "2\n",
            "3\n",
            "4\n",
            "5\n",
            "6\n",
            "7\n",
            "8\n",
            "9\n",
            "10\n"
          ]
        }
      ]
    },
    {
      "cell_type": "code",
      "source": [
        "\n",
        "even_sum = 0\n",
        "for num in range(1, 51):\n",
        "    if num % 2 == 0:\n",
        "        even_sum += num\n",
        "print(\"Sum of even numbers from 1 to 50 is:\", even_sum)"
      ],
      "metadata": {
        "colab": {
          "base_uri": "https://localhost:8080/"
        },
        "id": "wWwdqXClfCUr",
        "outputId": "e462bf3b-fe80-4f47-d374-ac4ad39a3d21"
      },
      "execution_count": 13,
      "outputs": [
        {
          "output_type": "stream",
          "name": "stdout",
          "text": [
            "Sum of even numbers from 1 to 50 is: 650\n"
          ]
        }
      ]
    },
    {
      "cell_type": "code",
      "source": [
        "\n",
        "text = input(\"Enter a string: \")\n",
        "reversed_text = \"\"\n",
        "index = len(text) - 1\n",
        "while index >= 0:\n",
        "    reversed_text += text[index]\n",
        "    index -= 1\n",
        "print(\"Reversed string:\", reversed_text)"
      ],
      "metadata": {
        "colab": {
          "base_uri": "https://localhost:8080/"
        },
        "id": "H9kg6DDKfCXE",
        "outputId": "0f56549b-df6a-4393-cded-81c425931b31"
      },
      "execution_count": 14,
      "outputs": [
        {
          "output_type": "stream",
          "name": "stdout",
          "text": [
            "Enter a string: 67\n",
            "Reversed string: 76\n"
          ]
        }
      ]
    },
    {
      "cell_type": "code",
      "source": [
        "\n",
        "num = int(input(\"Enter a non-negative integer: \"))\n",
        "if num < 0:\n",
        "    print(\"Factorial is not defined for negative numbers.\")\n",
        "else:\n",
        "    factorial = 1\n",
        "    i = 1\n",
        "\n",
        "    while i <= num:\n",
        "        factorial *= i\n",
        "        i += 1\n",
        "\n",
        "    print(f\"Factorial of {num} is: {factorial}\")"
      ],
      "metadata": {
        "colab": {
          "base_uri": "https://localhost:8080/"
        },
        "id": "1zEaoSnhfCaH",
        "outputId": "e3b5dcb6-41f1-4338-e4f8-e7b1b2d22c04"
      },
      "execution_count": 15,
      "outputs": [
        {
          "output_type": "stream",
          "name": "stdout",
          "text": [
            "Enter a non-negative integer: 12\n",
            "Factorial of 12 is: 479001600\n"
          ]
        }
      ]
    },
    {
      "cell_type": "markdown",
      "source": [
        "1 What is Python, and why is it popular\n",
        "\n",
        " Python is high level interpreted langugage known for simplicity readibility and varsatility.\n",
        "\n",
        "popular-\n",
        "\n",
        "Easy to learn and read\n",
        "huge standard library\n",
        "massive ecosystem\n",
        "\n",
        "2  What is an interpreter in Python  \n",
        "\n",
        "A interpreter in python is a program that reads and execute python code line by line.Convertin it into machine readable instrutions at runtime.\n",
        "\n",
        "3 What are pre-defined keywords in Python\n",
        "\n",
        " Pre difined keywords in python are reserved words that has special meaning in the language. you cant use them as variable name, function namr or identifier.\n",
        "\n",
        "4 Can keywords be used as variable names\n",
        "\n",
        " No keywords canot be used as variable name in python because theese are reserved words that are the part of core python language.\n",
        "\n",
        "5  What is mutability in Python\n",
        "\n",
        "Mutability in python refers to whether or not an object cab be changed after its created.\n",
        "\n",
        "6 Why are lists mutable, but tuples are immutable\n",
        "\n",
        "Lists are designed to be flexible and dynamic\n",
        "\n",
        "add remove or changed items\n",
        "resize the list\n",
        "\n",
        "7  What is the difference between “==” and “is” operators in Python\n",
        "\n",
        "operator      meaning        check                           example\n",
        "  ==           Equality   Same value                         True\n",
        "  is           Identity   same memory id                     False\n",
        "\n",
        "8  What are logical operators in Python\n",
        "\n",
        "Logical operator are used to combine or compare boolean expression true or false in python.\n",
        "\n",
        "and  - logical And\n",
        "or    - Logical OR\n",
        "not  - Logical NOT\n",
        "\n",
        "9 What is type casting in Python\n",
        "\n",
        " Type casting in python means converting one data type into another eg turning a string into integer or float into string\n",
        "\n",
        "10   What is the difference between implicit and explicit type casting\n",
        "\n",
        "            Implicit                            Explicit\n",
        "     Type coersion                                Type conversion\n",
        "     Python does it automically                You do it manually\n",
        "     safe and predictable                      can cause error\n",
        "\n",
        "11  What is the purpose of conditional statements in Python\n",
        "\n",
        "Conditional statements in python is used to make decision based on whether a condition is True Or False\n",
        "\n",
        "12  How does the elif statement work\n",
        "\n",
        "  It is used to check multiple conditions one after another.\n",
        "To test additional  condition if the if  first condition is false\n",
        "Help avoid writing multiple nested if....else blocks\n",
        "\n",
        "13 What is the difference between for and while loops\n",
        "\n",
        " Both for and while loop are used to repeat a block of code but they are used in different scenerio\n",
        "\n",
        "For Loop -  Used when you know the number of iteratios\n",
        "\n",
        "While Loop - used when you dont know how many times\n",
        "\n",
        "14 Describe a scenario where a while loop is more suitable than a for loop\n",
        "\n",
        " while loop is better when you dont know in advance how many times the loop need to run ypu just know the condition under which it continue.\n",
        "\n",
        "\n"
      ],
      "metadata": {
        "id": "ofI2yRlHnPFU"
      }
    },
    {
      "cell_type": "markdown",
      "source": [],
      "metadata": {
        "id": "IpEO7lDF_1qe"
      }
    }
  ]
}